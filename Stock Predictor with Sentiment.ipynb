# Cell 1: Install all dependencies (run once)
!pip install yfinance pandas statsmodels matplotlib newsapi-python vaderSentiment --quiet

# Cell 2: Imports & setup
import yfinance as yf
import pandas as pd
from statsmodels.tsa.holtwinters import ExponentialSmoothing
import matplotlib.pyplot as plt
import os
print("NEWSAPI_KEY:", os.getenv("NEWSAPI_KEY"))
import json

from newsapi import NewsApiClient
from vaderSentiment.vaderSentiment import SentimentIntensityAnalyzer

# Configure output folder
out_dir = os.path.expanduser("~/stock_plots")
os.makedirs(out_dir, exist_ok=True)

# Initialize NewsAPI and sentiment analyzer
news_api_key = os.getenv("NEWSAPI_KEY")
if not news_api_key:
    raise ValueError("Please set your NEWSAPI_KEY environment variable for NewsAPI access.")
newsapi = NewsApiClient(api_key=news_api_key)
sentiment_analyzer = SentimentIntensityAnalyzer()

# Cell 3: Define data-fetch + forecasting function
def fetch_and_forecast(ticker: str, start: str, end: str):
    df = yf.download(ticker, start=start, end=end, progress=False)
    monthly = df["Close"].resample("M").mean().dropna()
    model = ExponentialSmoothing(
        monthly,
        trend="add",
        seasonal="add",
        seasonal_periods=12
    )
    fit = model.fit(optimized=True)
    forecast = fit.forecast(12)
    return monthly, forecast

# Cell 4: Define function to pull local market news + sentiment
def fetch_local_market_news(country_code="us", category="business", page_size=5):
    resp = newsapi.get_top_headlines(
        country=country_code,
        category=category,
        page_size=page_size
    )
    articles = resp.get("articles", [])
    results = []
    for art in articles:
        title = art.get("title", "")
        desc = art.get("description") or ""
        combined = f"{title}. {desc}"
        score = sentiment_analyzer.polarity_scores(combined)["compound"]
        results.append({
            "title": title,
            "description": desc,
            "url": art.get("url"),
            "sentiment": score
        })
    return results

# Cell 5: Loop through tickers, fetch/forecast, pull news, save all
tickers = ["AAPL", "NVDA", "AVGO", "MSFT", "BA", "AMZN", "GOOGL", "META", "NFLX", "TSLA"]
start, end = "2000-01-01", "2025-04-17"

for ticker in tickers:
    print(f"Processing {ticker}...")

    # 1) Fetch & forecast
    monthly, forecast = fetch_and_forecast(ticker, start, end)

    # 2) Plot & save figure
    fig, ax = plt.subplots(figsize=(10, 6))
    ax.plot(monthly.index, monthly.values, label="Historical")
    ax.plot(forecast.index, forecast.values, label="Forecast")
    ax.set_title(f"{ticker}: Historical & 12-Month Forecast")
    ax.set_xlabel("Date")
    ax.set_ylabel("Price")
    ax.legend()
    plt.tight_layout()
    plot_path = os.path.join(out_dir, f"{ticker}_12mo_forecast.png")
    fig.savefig(plot_path, dpi=150)
    plt.close(fig)
    print(f"Saved plot to {plot_path}")

    # 3) Fetch local market news & sentiment
    news_items = fetch_local_market_news(country_code="us", category="business", page_size=5)

    # 4) Save news JSON
    news_path = os.path.join(out_dir, f"{ticker}_market_news.json")
    with open(news_path, "w") as nf:
        json.dump(news_items, nf, indent=2)
    print(f"Saved market news to {news_path}\n")
